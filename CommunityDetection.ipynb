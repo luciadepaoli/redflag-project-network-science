{
 "cells": [
  {
   "cell_type": "code",
   "execution_count": 1,
   "metadata": {
    "cell_id": "00000-aaba5bc9-e043-434a-85c7-404fa1c14dfa",
    "deepnote_cell_type": "code",
    "deepnote_to_be_reexecuted": false,
    "execution_millis": 104,
    "execution_start": 1638091464771,
    "source_hash": "6c321bb2",
    "tags": []
   },
   "outputs": [],
   "source": [
    "import pandas as pd \n",
    "import re\n",
    "import nltk\n",
    "from nltk.corpus import stopwords \n",
    "import string\n",
    "import itertools\n",
    "import networkx as nx \n",
    "import datetime as dt\n",
    "import pickle5 as pickle\n",
    "from itertools import chain\n",
    "import numpy as np\n",
    "\n",
    "# DISCLAIMER\n",
    "# change env to python 3.8 (python 3.7 (default) -> Error: Unsupported Pickle Protocol 5)"
   ]
  },
  {
   "cell_type": "code",
   "execution_count": 2,
   "metadata": {
    "cell_id": "00001-816a8bfd-a3e9-46e9-9706-4a78e5f8698f",
    "deepnote_cell_type": "code",
    "deepnote_output_heights": [
     382.1875
    ],
    "deepnote_to_be_reexecuted": false,
    "execution_millis": 881,
    "execution_start": 1638091516194,
    "source_hash": "2cac17af",
    "tags": []
   },
   "outputs": [],
   "source": [
    "path=\"./DATA/\"\n",
    "path_to_protocol5=path+\"Tweets/REDFLAG_2021_09_01_to_2021_12_31.pkl\"\n",
    "with open(path_to_protocol5, \"rb\") as fh:\n",
    "    tweets_df = pickle.load(fh)"
   ]
  },
  {
   "cell_type": "code",
   "execution_count": 3,
   "metadata": {},
   "outputs": [],
   "source": [
    "tweets_df.columns = ['Datetime', 'Tweet Id', 'Text', 'Username', \"Hashtags\"]\n",
    "tweets_df = tweets_df[tweets_df[\"Datetime\"] < \"2021-12-1\"]"
   ]
  },
  {
   "cell_type": "code",
   "execution_count": 4,
   "metadata": {
    "cell_id": "00002-890a87f7-37aa-4558-baef-66b843313532",
    "deepnote_cell_type": "code",
    "deepnote_output_heights": [
     177
    ],
    "deepnote_to_be_reexecuted": false,
    "execution_millis": 27,
    "execution_start": 1638091530460,
    "source_hash": "1c625087",
    "tags": []
   },
   "outputs": [
    {
     "data": {
      "text/html": [
       "<div>\n",
       "<style scoped>\n",
       "    .dataframe tbody tr th:only-of-type {\n",
       "        vertical-align: middle;\n",
       "    }\n",
       "\n",
       "    .dataframe tbody tr th {\n",
       "        vertical-align: top;\n",
       "    }\n",
       "\n",
       "    .dataframe thead th {\n",
       "        text-align: right;\n",
       "    }\n",
       "</style>\n",
       "<table border=\"1\" class=\"dataframe\">\n",
       "  <thead>\n",
       "    <tr style=\"text-align: right;\">\n",
       "      <th></th>\n",
       "      <th>Datetime</th>\n",
       "      <th>Tweet Id</th>\n",
       "      <th>Text</th>\n",
       "      <th>Username</th>\n",
       "      <th>Hashtags</th>\n",
       "    </tr>\n",
       "  </thead>\n",
       "  <tbody>\n",
       "    <tr>\n",
       "      <th>6483</th>\n",
       "      <td>2021-09-01 02:44:50+00:00</td>\n",
       "      <td>1432897207326285826</td>\n",
       "      <td>@TabbyCa25757103 @Walkabout24 It is the bigges...</td>\n",
       "      <td>TracyMMPohill</td>\n",
       "      <td>[RedFlag]</td>\n",
       "    </tr>\n",
       "    <tr>\n",
       "      <th>6484</th>\n",
       "      <td>2021-09-01 02:08:41+00:00</td>\n",
       "      <td>1432888109696524288</td>\n",
       "      <td>#Boma is a serious #redflag -ladies all over t...</td>\n",
       "      <td>Vivscorner_</td>\n",
       "      <td>[Boma, redflag, Tega, BBNajia6]</td>\n",
       "    </tr>\n",
       "    <tr>\n",
       "      <th>6485</th>\n",
       "      <td>2021-09-01 01:12:05+00:00</td>\n",
       "      <td>1432873864032399360</td>\n",
       "      <td>@amundsenio unintentionally funny #redFlag 🚩 h...</td>\n",
       "      <td>billypuntove</td>\n",
       "      <td>[redFlag]</td>\n",
       "    </tr>\n",
       "    <tr>\n",
       "      <th>6486</th>\n",
       "      <td>2021-09-01 00:59:24+00:00</td>\n",
       "      <td>1432870673710473217</td>\n",
       "      <td>I’m stuck on the fact she tracking my step son...</td>\n",
       "      <td>SwaqqaBee</td>\n",
       "      <td>[RedFlag]</td>\n",
       "    </tr>\n",
       "    <tr>\n",
       "      <th>6487</th>\n",
       "      <td>2021-09-01 00:52:09+00:00</td>\n",
       "      <td>1432868848299020290</td>\n",
       "      <td>2 senior FDA Vax regulators are stepping down ...</td>\n",
       "      <td>turn2asavage</td>\n",
       "      <td>[redflag]</td>\n",
       "    </tr>\n",
       "  </tbody>\n",
       "</table>\n",
       "</div>"
      ],
      "text/plain": [
       "                      Datetime             Tweet Id  \\\n",
       "6483 2021-09-01 02:44:50+00:00  1432897207326285826   \n",
       "6484 2021-09-01 02:08:41+00:00  1432888109696524288   \n",
       "6485 2021-09-01 01:12:05+00:00  1432873864032399360   \n",
       "6486 2021-09-01 00:59:24+00:00  1432870673710473217   \n",
       "6487 2021-09-01 00:52:09+00:00  1432868848299020290   \n",
       "\n",
       "                                                   Text       Username  \\\n",
       "6483  @TabbyCa25757103 @Walkabout24 It is the bigges...  TracyMMPohill   \n",
       "6484  #Boma is a serious #redflag -ladies all over t...    Vivscorner_   \n",
       "6485  @amundsenio unintentionally funny #redFlag 🚩 h...   billypuntove   \n",
       "6486  I’m stuck on the fact she tracking my step son...      SwaqqaBee   \n",
       "6487  2 senior FDA Vax regulators are stepping down ...   turn2asavage   \n",
       "\n",
       "                             Hashtags  \n",
       "6483                        [RedFlag]  \n",
       "6484  [Boma, redflag, Tega, BBNajia6]  \n",
       "6485                        [redFlag]  \n",
       "6486                        [RedFlag]  \n",
       "6487                        [redflag]  "
      ]
     },
     "execution_count": 4,
     "metadata": {},
     "output_type": "execute_result"
    }
   ],
   "source": [
    "tweets_filtered = tweets_df.copy() #it's a good idea to work on the copy of original dataframe, so we can always go back to it if we mess something up\n",
    "tweets_filtered.tail()"
   ]
  },
  {
   "cell_type": "markdown",
   "metadata": {
    "cell_id": "00003-2d2f3b16-e459-4983-9301-bd79bf267a5d",
    "deepnote_cell_type": "markdown"
   },
   "source": [
    "## NLTK tools"
   ]
  },
  {
   "cell_type": "code",
   "execution_count": 5,
   "metadata": {},
   "outputs": [],
   "source": [
    "import re #for regex matching\n",
    "import nltk #natural language toolkit library\n",
    "from nltk.corpus import wordnet as wn #importing it \n",
    "from nltk.stem.wordnet import WordNetLemmatizer #importing wordnet lemmatizer\n",
    "from nltk import pos_tag #part-of-speech-tagger\n",
    "from collections import defaultdict #defaultdict returns default value for non-existant keys you try to  access based on the function you passed in the constructor"
   ]
  },
  {
   "cell_type": "code",
   "execution_count": 6,
   "metadata": {},
   "outputs": [],
   "source": [
    "#nltk.download('words')\n",
    "#nltk.download('stopwords') #downloading stopwords\n",
    "#nltk.download('wordnet') #downloading wordnet\n",
    "#nltk.download('averaged_perceptron_tagger') #downloading tagger\n",
    "#nltk.download('omw-1.4')"
   ]
  },
  {
   "cell_type": "code",
   "execution_count": 7,
   "metadata": {
    "cell_id": "00004-08ad764c-b645-4798-9ca3-eafb48786d3a",
    "deepnote_cell_type": "code"
   },
   "outputs": [],
   "source": [
    "words = set(nltk.corpus.words.words()) #the last two lines serve to download the corpus of standard English language words\n",
    "stop_words = set(nltk.corpus.stopwords.words(\"english\")) #taking the stop words from English language\n",
    "tag_map = defaultdict(lambda : wn.NOUN) #here we define that wn.NOUN is the default value for the dict\n",
    "tag_map['J'] = wn.ADJ\n",
    "tag_map['V'] = wn.VERB\n",
    "tag_map['R'] = wn.ADV"
   ]
  },
  {
   "cell_type": "code",
   "execution_count": 8,
   "metadata": {
    "cell_id": "00006-167298ec-d4ae-4771-971d-c511c8d9e0b3",
    "deepnote_cell_type": "code"
   },
   "outputs": [],
   "source": [
    "def cleaner(tweet):\n",
    "    tweet = re.sub(\"@[A-Za-z0-9]+\",\"\", tweet) # remove mentions (not interested in them)\n",
    "    tweet = re.sub(\"#[A-Za-z0-9]+\", \"\", tweet) # remove hashtags (we have them in a specific column)\n",
    "    tweet = re.sub(r\"(?:\\@|http?\\://|https?\\://|www)\\S+\", \"\", tweet) # remove http links (not interested in them)\n",
    "    tweet = \" \".join(tweet.split())\n",
    "    tweet = str.lower(tweet) #to lowercase\n",
    "    lemma_function = WordNetLemmatizer()\n",
    "    #basically we use pos_tag function on tokens that we get by applying wordpunct tokenization\n",
    "    #to tweet (it separates all the words and symbols)\n",
    "    #then we pass the token along with it's wordnet pos value that we get from the tag_map dictionary \n",
    "    #(noun, adjective, verb or adverb) to the lemma function (the WordNetLemmatizer()) \n",
    "    tweet = \" \".join(lemma_function.lemmatize(token, tag_map[tag[0]]) \n",
    "                     for token, tag in nltk.pos_tag(nltk.wordpunct_tokenize(tweet))) #lemmatize\n",
    "    \n",
    "    tweet = \" \".join(w for w in nltk.wordpunct_tokenize(tweet) \\\n",
    "    if w.lower() in words and not w.lower() in stop_words) #remove stop words\n",
    "\n",
    "    tweet = str.lower(tweet) #to lowercase\n",
    "    return tweet\n",
    "\n",
    "tweets_filtered[\"clean_text\"] = tweets_filtered[\"Text\"].map(cleaner)"
   ]
  },
  {
   "cell_type": "code",
   "execution_count": 9,
   "metadata": {},
   "outputs": [],
   "source": [
    "def cleanu (tweet):\n",
    "    tweet = tweet.split()\n",
    "    for i in range(len(tweet)):\n",
    "        if tweet[i] == \"u\":\n",
    "            tweet[i] = \"you\"\n",
    "    tweet = \" \".join(w for w in tweet)\n",
    "    return tweet\n",
    "\n",
    "tweets_filtered[\"clean_text\"] = tweets_filtered[\"clean_text\"].map(cleanu)"
   ]
  },
  {
   "cell_type": "code",
   "execution_count": 10,
   "metadata": {},
   "outputs": [
    {
     "data": {
      "text/plain": [
       "7048"
      ]
     },
     "execution_count": 10,
     "metadata": {},
     "output_type": "execute_result"
    }
   ],
   "source": [
    "unique_hashtags = {}\n",
    "\n",
    "for idx, row in tweets_filtered.iterrows():\n",
    "    hashtag_list = []\n",
    "    for hashtag in row[\"Hashtags\"]:\n",
    "        hashtag = hashtag.lower()\n",
    "        if hashtag == \"redflags\":\n",
    "            hashtag = \"redflag\"\n",
    "        if hashtag == \"redflags\" or hashtag == \"trending\" :\n",
    "            hashtag = \"redflag\"\n",
    "        elif hashtag == \"redflagtrend\" or hashtag == \"redflagstrend\":\n",
    "            hashtag = \"redflag\"\n",
    "        elif  hashtag == \"redflagschallenge\" or hashtag == \"redflagchallenge\" or hashtag==\"redflagwarning\":\n",
    "            hashtag = \"redflag\"\n",
    "            \n",
    "        unique_hashtags.setdefault(\"#\"+hashtag, 0)\n",
    "        unique_hashtags['#'+hashtag] += 1\n",
    "        hashtag_list.append(hashtag)\n",
    "        tweets_filtered.at[idx, \"hashtags\"] = hashtag_list\n",
    "unique_hashtags.pop('#redflag') # remove redflag"
   ]
  },
  {
   "cell_type": "code",
   "execution_count": 11,
   "metadata": {},
   "outputs": [],
   "source": [
    "# hashtags_list = list(unique_hashtags.keys())\n",
    "# for i in range(len(hashtags_list)):\n",
    "#     hashtags_list[i] = hashtags_list[i][1:]"
   ]
  },
  {
   "cell_type": "code",
   "execution_count": 12,
   "metadata": {},
   "outputs": [],
   "source": [
    "# # Procedure to filtrate only tweets with hashtag inside the community\n",
    "# tweets_filtered_unique = tweets_filtered.copy().reset_index()\n",
    "# hashtags_list_list = []\n",
    "# idx_list = []\n",
    "# for c in hashtags_list:\n",
    "#     idx = list(tweets_filtered_unique[tweets_filtered_unique['hashtags'].apply(lambda x: c in x)].index)\n",
    "#     l = len(np.unique(tweets_filtered_unique.iloc[list(idx)]['Username']))\n",
    "#     if l > 3:\n",
    "#         hashtags_list_list.append(c)"
   ]
  },
  {
   "cell_type": "code",
   "execution_count": 13,
   "metadata": {},
   "outputs": [],
   "source": [
    "# tweets_filtered[tweets_filtered['hashtags'].apply(lambda x: 'advice' in x)]"
   ]
  },
  {
   "cell_type": "code",
   "execution_count": 14,
   "metadata": {
    "tags": []
   },
   "outputs": [],
   "source": [
    "# # Procedure to filtrate only tweets with hashtag inside the community\n",
    "# tweets_filtered = tweets_filtered.copy().reset_index()\n",
    "# idx_list = []\n",
    "# for c in hashtags_list_list:\n",
    "#     idx_list.append(list(tweets_filtered[tweets_filtered['hashtags'].apply(lambda x: c in x)].index))\n",
    "\n",
    "# idx = np.unique(list(chain(*idx_list)))\n",
    "# idx\n",
    "# tweets_filtered = tweets_filtered.iloc[list(idx)]\n",
    "# tweets_filtered"
   ]
  },
  {
   "cell_type": "markdown",
   "metadata": {},
   "source": [
    "# Hashtag Analysis"
   ]
  },
  {
   "cell_type": "markdown",
   "metadata": {},
   "source": [
    "Dict of unique hashtag without 'redflag'"
   ]
  },
  {
   "cell_type": "code",
   "execution_count": 15,
   "metadata": {
    "cell_id": "00011-d25a8f35-e41e-4b47-8608-fdd2ffc7d264",
    "deepnote_cell_type": "code",
    "deepnote_to_be_reexecuted": false,
    "execution_millis": 407,
    "execution_start": 1638091951106,
    "source_hash": "523a1bc9",
    "tags": []
   },
   "outputs": [],
   "source": [
    "# unique_hashtags = {}\n",
    "\n",
    "# for idx, row in tweets_filtered.iterrows():\n",
    "#     hashtag_list = []\n",
    "#     for hashtag in row[\"Hashtags\"]:\n",
    "#         hashtag = hashtag.lower()\n",
    "#         if hashtag in hashtags_list_list:\n",
    "#             unique_hashtags.setdefault(\"#\"+hashtag, 0)\n",
    "#             unique_hashtags['#'+hashtag] += 1\n",
    "#             hashtag_list.append(hashtag)\n",
    "#             tweets_filtered.at[idx, \"hashtags\"] = hashtag_list"
   ]
  },
  {
   "cell_type": "code",
   "execution_count": 16,
   "metadata": {},
   "outputs": [],
   "source": [
    "# len(hashtags_list_list)"
   ]
  },
  {
   "cell_type": "code",
   "execution_count": 17,
   "metadata": {},
   "outputs": [],
   "source": [
    "# len(unique_hashtags)"
   ]
  },
  {
   "cell_type": "code",
   "execution_count": 18,
   "metadata": {
    "cell_id": "00012-038f9553-31cb-413e-8a72-3601d757ca2a",
    "deepnote_cell_type": "code",
    "deepnote_output_heights": [
     382.1875
    ],
    "deepnote_to_be_reexecuted": false,
    "execution_millis": 53,
    "execution_start": 1638091955038,
    "source_hash": "8afe52ea",
    "tags": []
   },
   "outputs": [
    {
     "data": {
      "text/html": [
       "<div>\n",
       "<style scoped>\n",
       "    .dataframe tbody tr th:only-of-type {\n",
       "        vertical-align: middle;\n",
       "    }\n",
       "\n",
       "    .dataframe tbody tr th {\n",
       "        vertical-align: top;\n",
       "    }\n",
       "\n",
       "    .dataframe thead th {\n",
       "        text-align: right;\n",
       "    }\n",
       "</style>\n",
       "<table border=\"1\" class=\"dataframe\">\n",
       "  <thead>\n",
       "    <tr style=\"text-align: right;\">\n",
       "      <th></th>\n",
       "      <th>Hashtag</th>\n",
       "      <th>Count</th>\n",
       "    </tr>\n",
       "  </thead>\n",
       "  <tbody>\n",
       "    <tr>\n",
       "      <th>755</th>\n",
       "      <td>#redflagmeme</td>\n",
       "      <td>71</td>\n",
       "    </tr>\n",
       "    <tr>\n",
       "      <th>4123</th>\n",
       "      <td>#datingadvice360</td>\n",
       "      <td>69</td>\n",
       "    </tr>\n",
       "    <tr>\n",
       "      <th>987</th>\n",
       "      <td>#datingadvice</td>\n",
       "      <td>67</td>\n",
       "    </tr>\n",
       "    <tr>\n",
       "      <th>1487</th>\n",
       "      <td>#datingtips</td>\n",
       "      <td>62</td>\n",
       "    </tr>\n",
       "    <tr>\n",
       "      <th>386</th>\n",
       "      <td>#f1</td>\n",
       "      <td>62</td>\n",
       "    </tr>\n",
       "    <tr>\n",
       "      <th>...</th>\n",
       "      <td>...</td>\n",
       "      <td>...</td>\n",
       "    </tr>\n",
       "    <tr>\n",
       "      <th>1971</th>\n",
       "      <td>#themarque</td>\n",
       "      <td>1</td>\n",
       "    </tr>\n",
       "    <tr>\n",
       "      <th>1972</th>\n",
       "      <td>#onlinepersona</td>\n",
       "      <td>1</td>\n",
       "    </tr>\n",
       "    <tr>\n",
       "      <th>1973</th>\n",
       "      <td>#crystalball</td>\n",
       "      <td>1</td>\n",
       "    </tr>\n",
       "    <tr>\n",
       "      <th>1974</th>\n",
       "      <td>#dogwalker</td>\n",
       "      <td>1</td>\n",
       "    </tr>\n",
       "    <tr>\n",
       "      <th>5003</th>\n",
       "      <td>#tega</td>\n",
       "      <td>1</td>\n",
       "    </tr>\n",
       "  </tbody>\n",
       "</table>\n",
       "<p>5004 rows × 2 columns</p>\n",
       "</div>"
      ],
      "text/plain": [
       "               Hashtag  Count\n",
       "755       #redflagmeme     71\n",
       "4123  #datingadvice360     69\n",
       "987      #datingadvice     67\n",
       "1487       #datingtips     62\n",
       "386                #f1     62\n",
       "...                ...    ...\n",
       "1971        #themarque      1\n",
       "1972    #onlinepersona      1\n",
       "1973      #crystalball      1\n",
       "1974        #dogwalker      1\n",
       "5003             #tega      1\n",
       "\n",
       "[5004 rows x 2 columns]"
      ]
     },
     "execution_count": 18,
     "metadata": {},
     "output_type": "execute_result"
    }
   ],
   "source": [
    "uh_df = pd.DataFrame.from_dict(unique_hashtags, orient='index').reset_index()\n",
    "uh_df.rename(columns = {'index':'Hashtag', 0:'Count'}, inplace=True)\n",
    "uh_df.sort_values(by=['Count'], ascending=False, inplace=True)\n",
    "uh_df"
   ]
  },
  {
   "cell_type": "markdown",
   "metadata": {
    "cell_id": "00017-1565c30e-99c3-4672-b386-e1cdfb64b975",
    "deepnote_cell_type": "markdown"
   },
   "source": [
    "## Network Creation"
   ]
  },
  {
   "cell_type": "code",
   "execution_count": null,
   "metadata": {
    "cell_id": "00018-21caa131-f1ef-4f45-845e-b96d18aaa76d",
    "deepnote_cell_type": "code",
    "deepnote_output_heights": [
     21
    ],
    "deepnote_to_be_reexecuted": false,
    "execution_millis": 6,
    "execution_start": 1638092045624,
    "source_hash": "377e708e",
    "tags": []
   },
   "outputs": [],
   "source": [
    "#uh = unique_hashtags.keys()\n",
    "#uw = unique_words.keys()"
   ]
  },
  {
   "cell_type": "markdown",
   "metadata": {
    "cell_id": "00030-465112bb-ce39-4737-b9a0-bd0f55807d11",
    "deepnote_cell_type": "markdown"
   },
   "source": [
    "### Hashtags Network"
   ]
  },
  {
   "cell_type": "code",
   "execution_count": 32,
   "metadata": {},
   "outputs": [],
   "source": [
    "# Variable for filtering\n",
    "h = 0"
   ]
  },
  {
   "cell_type": "code",
   "execution_count": 20,
   "metadata": {
    "cell_id": "00031-e7b37e35-937a-4d6c-9711-786427ba0701",
    "deepnote_cell_type": "code",
    "deepnote_to_be_reexecuted": false,
    "execution_millis": 909,
    "execution_start": 1638092046410,
    "source_hash": "af391030",
    "tags": []
   },
   "outputs": [],
   "source": [
    "network = {} \n",
    "network_key = 0\n",
    "for index, row in tweets_filtered.iterrows():\n",
    "    #hashtags extracted from Tweet do not have the # sign in front of them but we will add it to differentiate hashtags from words\n",
    "    combined_list = ['#'+hashtag for hashtag in row[\"hashtags\"] if '#'+hashtag in unique_hashtags]\n",
    "    #itertool product creates Cartesian product of each element in the combined list (hastag + words, both UNIQUE)\n",
    "    for pair in itertools.product(combined_list, combined_list):\n",
    "        #exclude self-loops and count each pair only once because our graph is undirected and we do not take self-loops into account\n",
    "        if pair[0]!=pair[1] and not(pair[::-1] in network):\n",
    "            network.setdefault(pair, 0)\n",
    "            network[pair] += 1 \n",
    "\n",
    "network = {key: value for (key, value) in network.items() if value >= h} #filter the network\n",
    "network_df = pd.DataFrame.from_dict(network, orient=\"index\")"
   ]
  },
  {
   "cell_type": "code",
   "execution_count": 21,
   "metadata": {
    "cell_id": "00032-898c0c9a-f5e7-43e3-a463-b0f02f73c75c",
    "deepnote_cell_type": "code",
    "deepnote_output_heights": [
     382.1875
    ],
    "deepnote_to_be_reexecuted": false,
    "execution_millis": 135,
    "execution_start": 1638092052252,
    "source_hash": "d1819d88",
    "tags": []
   },
   "outputs": [
    {
     "data": {
      "text/html": [
       "<div>\n",
       "<style scoped>\n",
       "    .dataframe tbody tr th:only-of-type {\n",
       "        vertical-align: middle;\n",
       "    }\n",
       "\n",
       "    .dataframe tbody tr th {\n",
       "        vertical-align: top;\n",
       "    }\n",
       "\n",
       "    .dataframe thead th {\n",
       "        text-align: right;\n",
       "    }\n",
       "</style>\n",
       "<table border=\"1\" class=\"dataframe\">\n",
       "  <thead>\n",
       "    <tr style=\"text-align: right;\">\n",
       "      <th></th>\n",
       "      <th>pair</th>\n",
       "      <th>weight</th>\n",
       "    </tr>\n",
       "  </thead>\n",
       "  <tbody>\n",
       "    <tr>\n",
       "      <th>625</th>\n",
       "      <td>(#f1, #dutchgp)</td>\n",
       "      <td>47</td>\n",
       "    </tr>\n",
       "    <tr>\n",
       "      <th>35</th>\n",
       "      <td>(#crypto, #bitcoin)</td>\n",
       "      <td>20</td>\n",
       "    </tr>\n",
       "    <tr>\n",
       "      <th>627</th>\n",
       "      <td>(#dutchgp, #zandvoort)</td>\n",
       "      <td>15</td>\n",
       "    </tr>\n",
       "    <tr>\n",
       "      <th>23</th>\n",
       "      <td>(#podcast, #dating)</td>\n",
       "      <td>10</td>\n",
       "    </tr>\n",
       "    <tr>\n",
       "      <th>646</th>\n",
       "      <td>(#zandvoort, #hamilton)</td>\n",
       "      <td>10</td>\n",
       "    </tr>\n",
       "    <tr>\n",
       "      <th>...</th>\n",
       "      <td>...</td>\n",
       "      <td>...</td>\n",
       "    </tr>\n",
       "    <tr>\n",
       "      <th>272</th>\n",
       "      <td>(#twitter, #tweet)</td>\n",
       "      <td>1</td>\n",
       "    </tr>\n",
       "    <tr>\n",
       "      <th>271</th>\n",
       "      <td>(#relationships, #tweet)</td>\n",
       "      <td>1</td>\n",
       "    </tr>\n",
       "    <tr>\n",
       "      <th>270</th>\n",
       "      <td>(#relationships, #twitter)</td>\n",
       "      <td>1</td>\n",
       "    </tr>\n",
       "    <tr>\n",
       "      <th>269</th>\n",
       "      <td>(#domesticviolence, #relationships)</td>\n",
       "      <td>1</td>\n",
       "    </tr>\n",
       "    <tr>\n",
       "      <th>664</th>\n",
       "      <td>(#books, #harrypotter)</td>\n",
       "      <td>1</td>\n",
       "    </tr>\n",
       "  </tbody>\n",
       "</table>\n",
       "<p>665 rows × 2 columns</p>\n",
       "</div>"
      ],
      "text/plain": [
       "                                    pair  weight\n",
       "625                      (#f1, #dutchgp)      47\n",
       "35                   (#crypto, #bitcoin)      20\n",
       "627               (#dutchgp, #zandvoort)      15\n",
       "23                   (#podcast, #dating)      10\n",
       "646              (#zandvoort, #hamilton)      10\n",
       "..                                   ...     ...\n",
       "272                   (#twitter, #tweet)       1\n",
       "271             (#relationships, #tweet)       1\n",
       "270           (#relationships, #twitter)       1\n",
       "269  (#domesticviolence, #relationships)       1\n",
       "664               (#books, #harrypotter)       1\n",
       "\n",
       "[665 rows x 2 columns]"
      ]
     },
     "execution_count": 21,
     "metadata": {},
     "output_type": "execute_result"
    }
   ],
   "source": [
    "network_df.reset_index(inplace=True) \n",
    "network_df.columns = [\"pair\",\"weight\"] # undirected graph \n",
    "network_df.sort_values(by=\"weight\", inplace=True, ascending=False) \n",
    "network_df"
   ]
  },
  {
   "cell_type": "code",
   "execution_count": 22,
   "metadata": {
    "cell_id": "00033-8d16ad0c-ef93-41f0-9cb3-75f29bb9ba03",
    "deepnote_cell_type": "code",
    "deepnote_to_be_reexecuted": false,
    "execution_millis": 170,
    "execution_start": 1638092056761,
    "source_hash": "b4499207",
    "tags": []
   },
   "outputs": [],
   "source": [
    "#to get weighted graph we need a list of 3-element tuplels (u,v,w) where u and v are nodes and w is a number representing weight\n",
    "up_weighted = []\n",
    "for edge in network:\n",
    "    #we can filter edges by weight by uncommenting the next line and setting desired weight threshold\n",
    "    #if(network[edge])>1: \n",
    "    up_weighted.append((edge[0],edge[1],network[edge]))\n",
    "\n",
    "G = nx.Graph()\n",
    "G.add_weighted_edges_from(up_weighted)"
   ]
  },
  {
   "cell_type": "code",
   "execution_count": 23,
   "metadata": {
    "cell_id": "00034-b6ca28e3-05ae-4a0d-ab69-49ca678fc74f",
    "deepnote_cell_type": "code"
   },
   "outputs": [
    {
     "name": "stdout",
     "output_type": "stream",
     "text": [
      "180\n",
      "665\n"
     ]
    }
   ],
   "source": [
    "print(len(G.nodes())) # number of nodes\n",
    "print(len(G.edges()))"
   ]
  },
  {
   "cell_type": "code",
   "execution_count": 24,
   "metadata": {},
   "outputs": [
    {
     "data": {
      "text/html": [
       "<div>\n",
       "<style scoped>\n",
       "    .dataframe tbody tr th:only-of-type {\n",
       "        vertical-align: middle;\n",
       "    }\n",
       "\n",
       "    .dataframe tbody tr th {\n",
       "        vertical-align: top;\n",
       "    }\n",
       "\n",
       "    .dataframe thead th {\n",
       "        text-align: right;\n",
       "    }\n",
       "</style>\n",
       "<table border=\"1\" class=\"dataframe\">\n",
       "  <thead>\n",
       "    <tr style=\"text-align: right;\">\n",
       "      <th></th>\n",
       "      <th>Id</th>\n",
       "      <th>Label</th>\n",
       "    </tr>\n",
       "  </thead>\n",
       "  <tbody>\n",
       "    <tr>\n",
       "      <th>86</th>\n",
       "      <td>#redflagmeme</td>\n",
       "      <td>#redflagmeme</td>\n",
       "    </tr>\n",
       "    <tr>\n",
       "      <th>104</th>\n",
       "      <td>#datingadvice</td>\n",
       "      <td>#datingadvice</td>\n",
       "    </tr>\n",
       "    <tr>\n",
       "      <th>55</th>\n",
       "      <td>#f1</td>\n",
       "      <td>#f1</td>\n",
       "    </tr>\n",
       "    <tr>\n",
       "      <th>185</th>\n",
       "      <td>#dutchgp</td>\n",
       "      <td>#dutchgp</td>\n",
       "    </tr>\n",
       "    <tr>\n",
       "      <th>3</th>\n",
       "      <td>#dating</td>\n",
       "      <td>#dating</td>\n",
       "    </tr>\n",
       "    <tr>\n",
       "      <th>...</th>\n",
       "      <td>...</td>\n",
       "      <td>...</td>\n",
       "    </tr>\n",
       "    <tr>\n",
       "      <th>39</th>\n",
       "      <td>#respectfully</td>\n",
       "      <td>#respectfully</td>\n",
       "    </tr>\n",
       "    <tr>\n",
       "      <th>152</th>\n",
       "      <td>#technology</td>\n",
       "      <td>#technology</td>\n",
       "    </tr>\n",
       "    <tr>\n",
       "      <th>153</th>\n",
       "      <td>#accessibility</td>\n",
       "      <td>#accessibility</td>\n",
       "    </tr>\n",
       "    <tr>\n",
       "      <th>156</th>\n",
       "      <td>#tweet</td>\n",
       "      <td>#tweet</td>\n",
       "    </tr>\n",
       "    <tr>\n",
       "      <th>0</th>\n",
       "      <td>#toxicrelationship</td>\n",
       "      <td>#toxicrelationship</td>\n",
       "    </tr>\n",
       "  </tbody>\n",
       "</table>\n",
       "<p>193 rows × 2 columns</p>\n",
       "</div>"
      ],
      "text/plain": [
       "                     Id               Label\n",
       "86         #redflagmeme        #redflagmeme\n",
       "104       #datingadvice       #datingadvice\n",
       "55                  #f1                 #f1\n",
       "185            #dutchgp            #dutchgp\n",
       "3               #dating             #dating\n",
       "..                  ...                 ...\n",
       "39        #respectfully       #respectfully\n",
       "152         #technology         #technology\n",
       "153      #accessibility      #accessibility\n",
       "156              #tweet              #tweet\n",
       "0    #toxicrelationship  #toxicrelationship\n",
       "\n",
       "[193 rows x 2 columns]"
      ]
     },
     "execution_count": 24,
     "metadata": {},
     "output_type": "execute_result"
    }
   ],
   "source": [
    "hashtag_nodes = uh_df.copy()\n",
    "hashtag_nodes = hashtag_nodes.drop(hashtag_nodes[hashtag_nodes['Hashtag'] == '#redflag'].index)\n",
    "hashtag_nodes[\"Label\"] = hashtag_nodes[\"Hashtag\"]\n",
    "hashtag_nodes.rename(columns={\"Hashtag\":\"Id\"},inplace=True)\n",
    "hashtag_nodes = hashtag_nodes.drop(columns=['Count'])\n",
    "hashtag_nodes"
   ]
  },
  {
   "cell_type": "markdown",
   "metadata": {},
   "source": [
    "Number of nodes and number of unique_hashtags are different due to filter procedure. We only keep nodes."
   ]
  },
  {
   "cell_type": "code",
   "execution_count": 25,
   "metadata": {},
   "outputs": [],
   "source": [
    "from cdlib import algorithms, viz\n",
    "coms = algorithms.louvain(G, weight='weight', resolution=1., randomize=False)\n",
    "#coms = algorithms.surprise_communities(G)\n",
    "#coms = algorithms.leiden(G)\n",
    "#coms = algorithms.walktrap(G)"
   ]
  },
  {
   "cell_type": "code",
   "execution_count": 26,
   "metadata": {},
   "outputs": [
    {
     "name": "stderr",
     "output_type": "stream",
     "text": [
      "D:\\anaconda3\\envs\\network\\lib\\site-packages\\ipykernel_launcher.py:8: SettingWithCopyWarning: \n",
      "A value is trying to be set on a copy of a slice from a DataFrame\n",
      "\n",
      "See the caveats in the documentation: https://pandas.pydata.org/pandas-docs/stable/user_guide/indexing.html#returning-a-view-versus-a-copy\n",
      "  \n"
     ]
    }
   ],
   "source": [
    "hashtag_nodes['Modularity Class'] = 0\n",
    "\n",
    "k = 1\n",
    "for community in coms.communities:\n",
    "    for hashtag in hashtag_nodes['Label']:\n",
    "        if hashtag in community:\n",
    "            idx = hashtag_nodes[hashtag_nodes['Label'] == hashtag].index\n",
    "            hashtag_nodes['Modularity Class'][idx] = k\n",
    "    k += 1\n",
    "\n",
    "hashtag_nodes = hashtag_nodes.drop(hashtag_nodes[hashtag_nodes['Modularity Class'] == 0].index) # this is for remove nodes without edges"
   ]
  },
  {
   "cell_type": "code",
   "execution_count": 27,
   "metadata": {},
   "outputs": [],
   "source": [
    "# lunghezze = []\n",
    "# for i in range(len(np.unique(hashtag_nodes['Modularity Class']))):\n",
    "#     lunghezze.append(len(hashtag_nodes[hashtag_nodes['Modularity Class'] == i]))"
   ]
  },
  {
   "cell_type": "code",
   "execution_count": 28,
   "metadata": {},
   "outputs": [],
   "source": [
    "# hashtag = np.array(hashtag_nodes[hashtag_nodes['Modularity Class'] == 1]['Id'])"
   ]
  },
  {
   "cell_type": "markdown",
   "metadata": {},
   "source": [
    "Node_list save procedure for Gephi visualization:"
   ]
  },
  {
   "cell_type": "code",
   "execution_count": 29,
   "metadata": {},
   "outputs": [],
   "source": [
    "algo = '3'"
   ]
  },
  {
   "cell_type": "code",
   "execution_count": 30,
   "metadata": {
    "cell_id": "00038-9029919b-4015-4d33-bb8e-621a8b0d1759",
    "deepnote_cell_type": "code",
    "deepnote_to_be_reexecuted": false,
    "execution_millis": 10,
    "execution_start": 1638034167298,
    "source_hash": "77ccd5a4",
    "tags": []
   },
   "outputs": [],
   "source": [
    "# SAVE NODE LIST\n",
    "hashtag_nodes.to_csv(\"./DATA_COMM/user/#nodelist_community_\" + algo +\".csv\", index=False)\n",
    "\n",
    "# We need to insert a column called \"Modularity Class\" and label\n",
    "file = pd.read_csv(\"./DATA_COMM/user/#nodelist_community_\" + algo +\".csv\", sep = \",\", header = 0, names = ['Id','Modularity Class'])\n",
    "file.insert(loc = 1, column = 'Label', value = file['Id'])\n",
    "file.to_csv(\"./DATA_COMM/user/#nodelist_community_\" + algo +\".csv\", index=False)"
   ]
  },
  {
   "cell_type": "markdown",
   "metadata": {},
   "source": [
    "Edge_list saving procedure for Gephi visualization:"
   ]
  },
  {
   "cell_type": "code",
   "execution_count": 31,
   "metadata": {},
   "outputs": [],
   "source": [
    "nx.write_weighted_edgelist(G, \"./DATA_COMM/user/#edgelist_community_\" + algo +\".csv\")\n",
    "\n",
    "# We need to insert source, target, weight and type of edge\n",
    "file = pd.read_csv(\"./DATA_COMM/user/#edgelist_community_\" + algo +\".csv\", sep = \" \", header = 0, names = ['Source','Target','Weight'])\n",
    "file.insert(loc = 2, column = 'Type', value = ['undirected']*len(file))\n",
    "file.to_csv(\"./DATA_COMM/user/#edgelist_community_\" + algo +\".csv\", index=False)"
   ]
  },
  {
   "cell_type": "markdown",
   "metadata": {},
   "source": [
    "### hashtag_nodes"
   ]
  },
  {
   "cell_type": "markdown",
   "metadata": {},
   "source": [
    "# 2 cells for select only the tweets with the selected hashtags\n",
    "### Let's divide in community. In this case we choose the first one.\n",
    "Each modularity class is a community"
   ]
  },
  {
   "cell_type": "code",
   "execution_count": 19,
   "metadata": {},
   "outputs": [],
   "source": [
    "# hashtags_list = list(hashtag_nodes[hashtag_nodes['Modularity Class'] == 1]['Id'])\n",
    "# for i in range(len(hashtags_list)):\n",
    "#     hashtags_list[i] = hashtags_list[i][1:]"
   ]
  },
  {
   "cell_type": "code",
   "execution_count": 20,
   "metadata": {},
   "outputs": [],
   "source": [
    "# len(hashtags_list)"
   ]
  },
  {
   "cell_type": "code",
   "execution_count": 94,
   "metadata": {},
   "outputs": [],
   "source": [
    "# hashtags_list = ['covid19',\n",
    "#                  'gaslighting',\n",
    "#                  'plandemic',\n",
    "#                  'freedom',\n",
    "#                  'vaccines',\n",
    "#                  'truthmatters',\n",
    "#                  'covid',\n",
    "#                  'nonprofit',\n",
    "#                  'antivaxxers',\n",
    "#                  'community',\n",
    "#                  'education',\n",
    "#                  'science ']\n",
    "\n",
    "# hashtags_list = ['climatechange',\n",
    "#                  'climatecrisis',\n",
    "#                  'suistainable',\n",
    "#                  'savetheplanet',\n",
    "#                  'zerowaste',\n",
    "#                  'climatecrisis',\n",
    "#                  'climate']\n",
    "\n",
    "# hashtags_list = ['domesticviolence',\n",
    "#                  'domesticabuse',\n",
    "#                  'coercivecontrol',\n",
    "#                  'abuse',\n",
    "#                  'guncontrol',\n",
    "#                  '2a',\n",
    "#                  'guns',\n",
    "#                  'gunsense',\n",
    "#                  'redflaglaws']\n",
    "\n",
    "# hashtags_list = ['mentalhealth',\n",
    "#                  'health',\n",
    "#                  'feminism',\n",
    "#                  'toxic',\n",
    "#                  'mentalhealthmatters',\n",
    "#                  'selfcare',\n",
    "#                  'metoo',\n",
    "#                  'facts',\n",
    "#                  'girls',\n",
    "#                  'motivation',\n",
    "#                  'mentalhealthawereness',\n",
    "#                  'selflove',\n",
    "#                  'depression',\n",
    "#                  'run',\n",
    "#                  'meme',\n",
    "#                  'memes',\n",
    "#                  'blacktwitter',\n",
    "#                  'life',\n",
    "#                  'selfguarding',\n",
    "#                  'swipeleft',\n",
    "#                  'tinder',\n",
    "#                  'wtf',\n",
    "#                  'mindfulness',\n",
    "#                  'awereness',\n",
    "#                  'cannabiscommunity',\n",
    "#                  'cbd']\n",
    "\n",
    "# hashtags_list = ['dating',\n",
    "#                  'relationships',\n",
    "#                  'relationshipadvice',\n",
    "#                  'reallife',\n",
    "#                  'relatable',\n",
    "#                  'flag',\n",
    "#                  'stayway',\n",
    "#                  'funny',\n",
    "#                  'humor',\n",
    "#                  'datingadvice',\n",
    "#                  'datingtips',\n",
    "#                  'comedy',\n",
    "#                  'women',\n",
    "#                  'men',\n",
    "#                  'datingredflags',\n",
    "#                  'alert',\n",
    "#                  'lgtb',\n",
    "#                  'horoscope']\n",
    "\n",
    "hashtags_list = ['business',\n",
    "                 'digitalmarketing',\n",
    "                 'fraud',\n",
    "                 'trading',\n",
    "                 'money',\n",
    "                 'advice',\n",
    "                 'facebook',\n",
    "                 'twitter',\n",
    "                 'trend',\n",
    "                 'linkedin',\n",
    "                 'instagram',\n",
    "                 'entrepreneur']"
   ]
  },
  {
   "cell_type": "code",
   "execution_count": 95,
   "metadata": {},
   "outputs": [],
   "source": [
    "tweets_comm = tweets_filtered.copy().reset_index()"
   ]
  },
  {
   "cell_type": "code",
   "execution_count": 96,
   "metadata": {},
   "outputs": [
    {
     "data": {
      "text/html": [
       "<div>\n",
       "<style scoped>\n",
       "    .dataframe tbody tr th:only-of-type {\n",
       "        vertical-align: middle;\n",
       "    }\n",
       "\n",
       "    .dataframe tbody tr th {\n",
       "        vertical-align: top;\n",
       "    }\n",
       "\n",
       "    .dataframe thead th {\n",
       "        text-align: right;\n",
       "    }\n",
       "</style>\n",
       "<table border=\"1\" class=\"dataframe\">\n",
       "  <thead>\n",
       "    <tr style=\"text-align: right;\">\n",
       "      <th></th>\n",
       "      <th>index</th>\n",
       "      <th>Datetime</th>\n",
       "      <th>Tweet Id</th>\n",
       "      <th>Text</th>\n",
       "      <th>Username</th>\n",
       "      <th>Hashtags</th>\n",
       "      <th>clean_text</th>\n",
       "      <th>hashtags</th>\n",
       "    </tr>\n",
       "  </thead>\n",
       "  <tbody>\n",
       "    <tr>\n",
       "      <th>55</th>\n",
       "      <td>989</td>\n",
       "      <td>2021-11-28 01:26:24+00:00</td>\n",
       "      <td>1464767600597082117</td>\n",
       "      <td>5 Red flags to watch out for at the beginning ...</td>\n",
       "      <td>RuthlessCI</td>\n",
       "      <td>[Relationship, RedFlag, Love, Advice, FairyTale]</td>\n",
       "      <td>red flag watch beginning relationship read ful...</td>\n",
       "      <td>[relationship, redflag, love, advice, fairytale]</td>\n",
       "    </tr>\n",
       "    <tr>\n",
       "      <th>207</th>\n",
       "      <td>1141</td>\n",
       "      <td>2021-11-22 15:30:18+00:00</td>\n",
       "      <td>1462805647754514432</td>\n",
       "      <td>#BadData is no good. We at Merrill Research id...</td>\n",
       "      <td>ResearchMerrill</td>\n",
       "      <td>[BadData, data, business, RedFlag]</td>\n",
       "      <td>good research identify bad evaluate individual...</td>\n",
       "      <td>[baddata, data, business, redflag]</td>\n",
       "    </tr>\n",
       "    <tr>\n",
       "      <th>238</th>\n",
       "      <td>1172</td>\n",
       "      <td>2021-11-21 01:26:22+00:00</td>\n",
       "      <td>1462230876683710467</td>\n",
       "      <td>Nobody's perfect.\\n\\nRead the full article: 5 ...</td>\n",
       "      <td>RuthlessCI</td>\n",
       "      <td>[Relationship, RedFlag, Love, Advice, FairyTale]</td>\n",
       "      <td>nobody perfect read full article reason prince...</td>\n",
       "      <td>[relationship, redflag, love, advice, fairytale]</td>\n",
       "    </tr>\n",
       "    <tr>\n",
       "      <th>275</th>\n",
       "      <td>1209</td>\n",
       "      <td>2021-11-19 17:30:00+00:00</td>\n",
       "      <td>1461748607120461830</td>\n",
       "      <td>🚩Be on the lookout for #accountingfraud red fl...</td>\n",
       "      <td>SurgentAFE</td>\n",
       "      <td>[accountingfraud, Surgent, fraud, financialsta...</td>\n",
       "      <td>lookout red flag offer content assess risk aud...</td>\n",
       "      <td>[accountingfraud, surgent, fraud, financialsta...</td>\n",
       "    </tr>\n",
       "    <tr>\n",
       "      <th>348</th>\n",
       "      <td>1282</td>\n",
       "      <td>2021-11-17 15:00:41+00:00</td>\n",
       "      <td>1460986255013990405</td>\n",
       "      <td>Don't do it to fit in do it because your finan...</td>\n",
       "      <td>hjmmanagement</td>\n",
       "      <td>[hjmman, hjmmanagement, redflag, trend, budget...</td>\n",
       "      <td>fit finance say</td>\n",
       "      <td>[hjmman, hjmmanagement, redflag, trend, budget...</td>\n",
       "    </tr>\n",
       "    <tr>\n",
       "      <th>...</th>\n",
       "      <td>...</td>\n",
       "      <td>...</td>\n",
       "      <td>...</td>\n",
       "      <td>...</td>\n",
       "      <td>...</td>\n",
       "      <td>...</td>\n",
       "      <td>...</td>\n",
       "      <td>...</td>\n",
       "    </tr>\n",
       "    <tr>\n",
       "      <th>4727</th>\n",
       "      <td>5661</td>\n",
       "      <td>2021-10-05 14:28:19+00:00</td>\n",
       "      <td>1445395431136059396</td>\n",
       "      <td>Beware The Facebook \"Whistleblower\"! She Is A ...</td>\n",
       "      <td>PixelOkie</td>\n",
       "      <td>[DeleteFacebook, Facebook, facebookwhistleblow...</td>\n",
       "      <td>beware fraud plant demand censorship</td>\n",
       "      <td>[deletefacebook, facebook, facebookwhistleblow...</td>\n",
       "    </tr>\n",
       "    <tr>\n",
       "      <th>4882</th>\n",
       "      <td>5816</td>\n",
       "      <td>2021-09-29 04:28:33+00:00</td>\n",
       "      <td>1443070168389734400</td>\n",
       "      <td>Dating #redflag🚩: someone who doesn't support ...</td>\n",
       "      <td>Cafe24_ph</td>\n",
       "      <td>[redflag, business, Cafe24, onlinebusiness]</td>\n",
       "      <td>date someone support support register</td>\n",
       "      <td>[redflag, business, cafe24, onlinebusiness]</td>\n",
       "    </tr>\n",
       "    <tr>\n",
       "      <th>5265</th>\n",
       "      <td>6199</td>\n",
       "      <td>2021-09-09 05:20:01+00:00</td>\n",
       "      <td>1435835363021438978</td>\n",
       "      <td>Clients who tell you a job should be \"easy\", \"...</td>\n",
       "      <td>lutrov</td>\n",
       "      <td>[redflag, webdev, webdesign, business]</td>\n",
       "      <td>client tell job easy simple quick rarely worth</td>\n",
       "      <td>[redflag, webdev, webdesign, business]</td>\n",
       "    </tr>\n",
       "    <tr>\n",
       "      <th>5271</th>\n",
       "      <td>6205</td>\n",
       "      <td>2021-09-08 17:50:13+00:00</td>\n",
       "      <td>1435661768328564737</td>\n",
       "      <td>@VivintHome on what planet do u send people to...</td>\n",
       "      <td>DavidJKelley</td>\n",
       "      <td>[redflag, redflag, redflag, Fraud, SecurityRisk]</td>\n",
       "      <td>planet you send people someone house w appoint...</td>\n",
       "      <td>[redflag, redflag, redflag, fraud, securityrisk]</td>\n",
       "    </tr>\n",
       "    <tr>\n",
       "      <th>5519</th>\n",
       "      <td>6453</td>\n",
       "      <td>2021-09-02 12:04:44+00:00</td>\n",
       "      <td>1433400496220430340</td>\n",
       "      <td>I joined Twitter because of @EricaNlewedim and...</td>\n",
       "      <td>ghailaclaire</td>\n",
       "      <td>[redflag, twitter, love]</td>\n",
       "      <td>join twitter today twitter anniversary trend t...</td>\n",
       "      <td>[redflag, twitter, love]</td>\n",
       "    </tr>\n",
       "  </tbody>\n",
       "</table>\n",
       "<p>80 rows × 8 columns</p>\n",
       "</div>"
      ],
      "text/plain": [
       "      index                  Datetime             Tweet Id  \\\n",
       "55      989 2021-11-28 01:26:24+00:00  1464767600597082117   \n",
       "207    1141 2021-11-22 15:30:18+00:00  1462805647754514432   \n",
       "238    1172 2021-11-21 01:26:22+00:00  1462230876683710467   \n",
       "275    1209 2021-11-19 17:30:00+00:00  1461748607120461830   \n",
       "348    1282 2021-11-17 15:00:41+00:00  1460986255013990405   \n",
       "...     ...                       ...                  ...   \n",
       "4727   5661 2021-10-05 14:28:19+00:00  1445395431136059396   \n",
       "4882   5816 2021-09-29 04:28:33+00:00  1443070168389734400   \n",
       "5265   6199 2021-09-09 05:20:01+00:00  1435835363021438978   \n",
       "5271   6205 2021-09-08 17:50:13+00:00  1435661768328564737   \n",
       "5519   6453 2021-09-02 12:04:44+00:00  1433400496220430340   \n",
       "\n",
       "                                                   Text         Username  \\\n",
       "55    5 Red flags to watch out for at the beginning ...       RuthlessCI   \n",
       "207   #BadData is no good. We at Merrill Research id...  ResearchMerrill   \n",
       "238   Nobody's perfect.\\n\\nRead the full article: 5 ...       RuthlessCI   \n",
       "275   🚩Be on the lookout for #accountingfraud red fl...       SurgentAFE   \n",
       "348   Don't do it to fit in do it because your finan...    hjmmanagement   \n",
       "...                                                 ...              ...   \n",
       "4727  Beware The Facebook \"Whistleblower\"! She Is A ...        PixelOkie   \n",
       "4882  Dating #redflag🚩: someone who doesn't support ...        Cafe24_ph   \n",
       "5265  Clients who tell you a job should be \"easy\", \"...           lutrov   \n",
       "5271  @VivintHome on what planet do u send people to...     DavidJKelley   \n",
       "5519  I joined Twitter because of @EricaNlewedim and...     ghailaclaire   \n",
       "\n",
       "                                               Hashtags  \\\n",
       "55     [Relationship, RedFlag, Love, Advice, FairyTale]   \n",
       "207                  [BadData, data, business, RedFlag]   \n",
       "238    [Relationship, RedFlag, Love, Advice, FairyTale]   \n",
       "275   [accountingfraud, Surgent, fraud, financialsta...   \n",
       "348   [hjmman, hjmmanagement, redflag, trend, budget...   \n",
       "...                                                 ...   \n",
       "4727  [DeleteFacebook, Facebook, facebookwhistleblow...   \n",
       "4882        [redflag, business, Cafe24, onlinebusiness]   \n",
       "5265             [redflag, webdev, webdesign, business]   \n",
       "5271   [redflag, redflag, redflag, Fraud, SecurityRisk]   \n",
       "5519                           [redflag, twitter, love]   \n",
       "\n",
       "                                             clean_text  \\\n",
       "55    red flag watch beginning relationship read ful...   \n",
       "207   good research identify bad evaluate individual...   \n",
       "238   nobody perfect read full article reason prince...   \n",
       "275   lookout red flag offer content assess risk aud...   \n",
       "348                                     fit finance say   \n",
       "...                                                 ...   \n",
       "4727               beware fraud plant demand censorship   \n",
       "4882              date someone support support register   \n",
       "5265     client tell job easy simple quick rarely worth   \n",
       "5271  planet you send people someone house w appoint...   \n",
       "5519  join twitter today twitter anniversary trend t...   \n",
       "\n",
       "                                               hashtags  \n",
       "55     [relationship, redflag, love, advice, fairytale]  \n",
       "207                  [baddata, data, business, redflag]  \n",
       "238    [relationship, redflag, love, advice, fairytale]  \n",
       "275   [accountingfraud, surgent, fraud, financialsta...  \n",
       "348   [hjmman, hjmmanagement, redflag, trend, budget...  \n",
       "...                                                 ...  \n",
       "4727  [deletefacebook, facebook, facebookwhistleblow...  \n",
       "4882        [redflag, business, cafe24, onlinebusiness]  \n",
       "5265             [redflag, webdev, webdesign, business]  \n",
       "5271   [redflag, redflag, redflag, fraud, securityrisk]  \n",
       "5519                           [redflag, twitter, love]  \n",
       "\n",
       "[80 rows x 8 columns]"
      ]
     },
     "execution_count": 96,
     "metadata": {},
     "output_type": "execute_result"
    }
   ],
   "source": [
    "# Procedure to filtrate only tweets with hashtag inside the community\n",
    "tweets_comm = tweets_filtered.copy().reset_index()\n",
    "idx_list = []\n",
    "for c in hashtags_list:\n",
    "    idx_list.append(list(tweets_comm[tweets_comm['hashtags'].apply(lambda x: c in x)].index))\n",
    "\n",
    "idx = np.unique(list(chain(*idx_list)))\n",
    "idx\n",
    "tweets_comm = tweets_comm.iloc[list(idx)]\n",
    "tweets_comm"
   ]
  },
  {
   "cell_type": "code",
   "execution_count": 97,
   "metadata": {},
   "outputs": [
    {
     "data": {
      "text/plain": [
       "80"
      ]
     },
     "execution_count": 97,
     "metadata": {},
     "output_type": "execute_result"
    }
   ],
   "source": [
    "len(tweets_comm)"
   ]
  },
  {
   "cell_type": "markdown",
   "metadata": {},
   "source": [
    "### Unique words in community"
   ]
  },
  {
   "cell_type": "code",
   "execution_count": 98,
   "metadata": {},
   "outputs": [],
   "source": [
    "# Where are we working:\n",
    "dataframe = tweets_comm.copy()"
   ]
  },
  {
   "cell_type": "code",
   "execution_count": 99,
   "metadata": {
    "cell_id": "00008-fc76d07a-33b3-49a0-b457-ec409e18fad6",
    "deepnote_cell_type": "code",
    "deepnote_to_be_reexecuted": false,
    "execution_millis": 1,
    "execution_start": 1638091758876,
    "source_hash": "8e9463a0",
    "tags": []
   },
   "outputs": [],
   "source": [
    "#initialize an empty dict  \n",
    "unique_words = {} \n",
    "for row in dataframe.clean_text:\n",
    "    for word in row.split(\" \"):\n",
    "        #if the word is encountered for the first time add to dict as key and set its value to 0\n",
    "        unique_words.setdefault(word,0)\n",
    "        #increase the value (i.e the count) of the word by 1 every time it is encountered\n",
    "        unique_words[word] += 1 # get unique words and their frequences"
   ]
  },
  {
   "cell_type": "code",
   "execution_count": 100,
   "metadata": {},
   "outputs": [
    {
     "data": {
      "text/plain": [
       "1"
      ]
     },
     "execution_count": 100,
     "metadata": {},
     "output_type": "execute_result"
    }
   ],
   "source": [
    "unique_words.pop(\"\")"
   ]
  },
  {
   "cell_type": "code",
   "execution_count": 101,
   "metadata": {},
   "outputs": [
    {
     "data": {
      "text/plain": [
       "23"
      ]
     },
     "execution_count": 101,
     "metadata": {},
     "output_type": "execute_result"
    }
   ],
   "source": [
    "unique_words.pop(\"red\")"
   ]
  },
  {
   "cell_type": "code",
   "execution_count": 102,
   "metadata": {},
   "outputs": [
    {
     "data": {
      "text/plain": [
       "24"
      ]
     },
     "execution_count": 102,
     "metadata": {},
     "output_type": "execute_result"
    }
   ],
   "source": [
    "unique_words.pop(\"flag\")"
   ]
  },
  {
   "cell_type": "code",
   "execution_count": 103,
   "metadata": {
    "cell_id": "00027-6c57ffad-a6b9-4abe-a451-6a3e34d115a1",
    "deepnote_cell_type": "code",
    "deepnote_output_heights": [
     382.1875
    ],
    "deepnote_to_be_reexecuted": false,
    "execution_millis": 38,
    "execution_start": 1638092079281,
    "source_hash": "312ea941",
    "tags": []
   },
   "outputs": [
    {
     "data": {
      "text/html": [
       "<div>\n",
       "<style scoped>\n",
       "    .dataframe tbody tr th:only-of-type {\n",
       "        vertical-align: middle;\n",
       "    }\n",
       "\n",
       "    .dataframe tbody tr th {\n",
       "        vertical-align: top;\n",
       "    }\n",
       "\n",
       "    .dataframe thead th {\n",
       "        text-align: right;\n",
       "    }\n",
       "</style>\n",
       "<table border=\"1\" class=\"dataframe\">\n",
       "  <thead>\n",
       "    <tr style=\"text-align: right;\">\n",
       "      <th></th>\n",
       "      <th>Id</th>\n",
       "      <th>Label</th>\n",
       "    </tr>\n",
       "  </thead>\n",
       "  <tbody>\n",
       "    <tr>\n",
       "      <th>0</th>\n",
       "      <td>watch</td>\n",
       "      <td>watch</td>\n",
       "    </tr>\n",
       "    <tr>\n",
       "      <th>1</th>\n",
       "      <td>beginning</td>\n",
       "      <td>beginning</td>\n",
       "    </tr>\n",
       "    <tr>\n",
       "      <th>2</th>\n",
       "      <td>relationship</td>\n",
       "      <td>relationship</td>\n",
       "    </tr>\n",
       "    <tr>\n",
       "      <th>3</th>\n",
       "      <td>read</td>\n",
       "      <td>read</td>\n",
       "    </tr>\n",
       "    <tr>\n",
       "      <th>4</th>\n",
       "      <td>full</td>\n",
       "      <td>full</td>\n",
       "    </tr>\n",
       "    <tr>\n",
       "      <th>...</th>\n",
       "      <td>...</td>\n",
       "      <td>...</td>\n",
       "    </tr>\n",
       "    <tr>\n",
       "      <th>332</th>\n",
       "      <td>confirm</td>\n",
       "      <td>confirm</td>\n",
       "    </tr>\n",
       "    <tr>\n",
       "      <th>333</th>\n",
       "      <td>join</td>\n",
       "      <td>join</td>\n",
       "    </tr>\n",
       "    <tr>\n",
       "      <th>334</th>\n",
       "      <td>anniversary</td>\n",
       "      <td>anniversary</td>\n",
       "    </tr>\n",
       "    <tr>\n",
       "      <th>335</th>\n",
       "      <td>hand</td>\n",
       "      <td>hand</td>\n",
       "    </tr>\n",
       "    <tr>\n",
       "      <th>336</th>\n",
       "      <td>small</td>\n",
       "      <td>small</td>\n",
       "    </tr>\n",
       "  </tbody>\n",
       "</table>\n",
       "<p>337 rows × 2 columns</p>\n",
       "</div>"
      ],
      "text/plain": [
       "               Id         Label\n",
       "0           watch         watch\n",
       "1       beginning     beginning\n",
       "2    relationship  relationship\n",
       "3            read          read\n",
       "4            full          full\n",
       "..            ...           ...\n",
       "332       confirm       confirm\n",
       "333          join          join\n",
       "334   anniversary   anniversary\n",
       "335          hand          hand\n",
       "336         small         small\n",
       "\n",
       "[337 rows x 2 columns]"
      ]
     },
     "execution_count": 103,
     "metadata": {},
     "output_type": "execute_result"
    }
   ],
   "source": [
    "word_nodes = pd.DataFrame.from_dict(unique_words, orient=\"index\")\n",
    "word_nodes.reset_index(inplace=True)\n",
    "word_nodes[\"Label\"] = word_nodes[\"index\"]\n",
    "word_nodes.rename(columns={\"index\":\"Id\", 0:\"delete\"},inplace=True)\n",
    "word_nodes = word_nodes.drop(columns=['delete']) \n",
    "\n",
    "word_nodes"
   ]
  },
  {
   "cell_type": "code",
   "execution_count": 104,
   "metadata": {},
   "outputs": [],
   "source": [
    "uw_df = pd.DataFrame.from_dict(unique_words, orient='index').reset_index()\n",
    "uw_df.rename(columns = {'index':'Word', 0:'Count'}, inplace=True)\n",
    "uw_df.sort_values(by=['Count'], ascending=False, inplace=True)\n",
    "uw = unique_words.keys()"
   ]
  },
  {
   "cell_type": "markdown",
   "metadata": {},
   "source": [
    "### Words network"
   ]
  },
  {
   "cell_type": "code",
   "execution_count": 105,
   "metadata": {
    "cell_id": "00020-f9e09c6f-a742-42b1-979a-96c463dfa2de",
    "deepnote_cell_type": "code",
    "deepnote_to_be_reexecuted": false,
    "execution_millis": 909,
    "execution_start": 1638092046410,
    "source_hash": "af391030",
    "tags": []
   },
   "outputs": [],
   "source": [
    "h = 0\n",
    "network = {} \n",
    "network_key = 0\n",
    "for index, row in dataframe.iterrows():\n",
    "    #hashtags extracted from Tweet do not have the # sign in front of them but we will add it to differentiate hashtags from words\n",
    "    combined_list = [word for word in str.split(row[\"clean_text\"], \" \") if word in uw]\n",
    "    #itertool product creates Cartesian product of each element in the combined list (hastag + words, both UNIQUE)\n",
    "    for pair in itertools.product(combined_list, combined_list):\n",
    "        #exclude self-loops and count each pair only once because our graph is undirected and we do not take self-loops into account\n",
    "        if pair[0]!=pair[1] and not(pair[::-1] in network):\n",
    "            network.setdefault(pair, 0)\n",
    "            network[pair] += 1 \n",
    "\n",
    "#network = {key: value for (key, value) in network.items() if value >= h} #filter the network\n",
    "network_df = pd.DataFrame.from_dict(network, orient=\"index\")"
   ]
  },
  {
   "cell_type": "code",
   "execution_count": 106,
   "metadata": {
    "cell_id": "00021-ecc2f7cb-d273-4dcb-85e1-f3068e3c30ab",
    "deepnote_cell_type": "code",
    "deepnote_output_heights": [
     382.1875
    ],
    "deepnote_to_be_reexecuted": false,
    "execution_millis": 135,
    "execution_start": 1638092052252,
    "source_hash": "d1819d88",
    "tags": []
   },
   "outputs": [],
   "source": [
    "network_df.reset_index(inplace=True) \n",
    "network_df.columns = [\"pair\",\"weight\"] # undirected graph "
   ]
  },
  {
   "cell_type": "code",
   "execution_count": 107,
   "metadata": {
    "cell_id": "00022-12deb68b-01c4-47d9-9868-45c13cd60e82",
    "deepnote_cell_type": "code",
    "deepnote_to_be_reexecuted": false,
    "execution_millis": 170,
    "execution_start": 1638092056761,
    "source_hash": "b4499207",
    "tags": []
   },
   "outputs": [],
   "source": [
    "#to get weighted graph we need a list of 3-element tuplels (u,v,w) where u and v are nodes and w is a number representing weight\n",
    "up_weighted = []\n",
    "for edge in network:\n",
    "    #we can filter edges by weight by uncommenting the next line and setting desired weight threshold\n",
    "    #if(network[edge])>1: \n",
    "    up_weighted.append((edge[0],edge[1],network[edge]))\n",
    "\n",
    "G = nx.Graph()\n",
    "G.add_weighted_edges_from(up_weighted)"
   ]
  },
  {
   "cell_type": "code",
   "execution_count": 108,
   "metadata": {
    "cell_id": "00023-1c58f1c4-e883-4e92-b142-977b7feebc54",
    "deepnote_cell_type": "code"
   },
   "outputs": [
    {
     "name": "stdout",
     "output_type": "stream",
     "text": [
      "336\n",
      "1759\n"
     ]
    }
   ],
   "source": [
    "print(len(G.nodes())) # number of nodes\n",
    "print(len(G.edges()))"
   ]
  },
  {
   "cell_type": "code",
   "execution_count": 36,
   "metadata": {},
   "outputs": [],
   "source": [
    "to_remove = list(set(list(word_nodes['Id'])) ^ set(list(G.nodes())))\n",
    "for i in range(len(to_remove)):\n",
    "    word_nodes = word_nodes.drop(word_nodes[word_nodes['Id'] == to_remove[i]].index)"
   ]
  },
  {
   "cell_type": "markdown",
   "metadata": {},
   "source": [
    "Node_list save procedure for Gephi visualization:"
   ]
  },
  {
   "cell_type": "code",
   "execution_count": 37,
   "metadata": {},
   "outputs": [],
   "source": [
    "path = \"./DATA_COMM/\"\n",
    "comm = '12'"
   ]
  },
  {
   "cell_type": "code",
   "execution_count": 38,
   "metadata": {
    "cell_id": "00038-9029919b-4015-4d33-bb8e-621a8b0d1759",
    "deepnote_cell_type": "code",
    "deepnote_to_be_reexecuted": false,
    "execution_millis": 10,
    "execution_start": 1638034167298,
    "source_hash": "77ccd5a4",
    "tags": []
   },
   "outputs": [],
   "source": [
    "# SAVE NODE LIST\n",
    "word_nodes.to_csv(path + \"#nodelist_community\"+comm+\".csv\", index=False) \n",
    "\n",
    "# We need to insert a column called \"Modularity Class\" and label\n",
    "file = pd.read_csv(path + \"#nodelist_community\"+comm+\".csv\", sep = \",\", header = 0, names = ['Id','Modularity Class'])\n",
    "file.insert(loc = 1, column = 'Label', value = file['Id'])\n",
    "file.to_csv(path + \"#nodelist_community\"+comm+\".csv\", index=False)"
   ]
  },
  {
   "cell_type": "markdown",
   "metadata": {},
   "source": [
    "Edge_list saving procedure for Gephi visualization:"
   ]
  },
  {
   "cell_type": "code",
   "execution_count": 39,
   "metadata": {},
   "outputs": [],
   "source": [
    "nx.write_weighted_edgelist(G, path + \"#edgelist_community\"+comm+\".csv\")\n",
    "\n",
    "# We need to insert source, target, weight and type of edge\n",
    "file = pd.read_csv(path + \"#edgelist_community\"+comm+\".csv\", sep = \" \", header = 0, names = ['Source','Target','Weight'])\n",
    "file.insert(loc = 2, column = 'Type', value = ['undirected']*len(file))\n",
    "file.to_csv(path + \"#edgelist_community\"+comm+\".csv\", index=False)"
   ]
  },
  {
   "cell_type": "code",
   "execution_count": null,
   "metadata": {},
   "outputs": [],
   "source": []
  }
 ],
 "metadata": {
  "deepnote": {
   "is_reactive": false
  },
  "deepnote_execution_queue": [],
  "deepnote_notebook_id": "da2a713b-c1a6-40e5-9249-e5fce1d1cb07",
  "kernelspec": {
   "display_name": "Python [conda env:network]",
   "language": "python",
   "name": "conda-env-network-py"
  },
  "language_info": {
   "codemirror_mode": {
    "name": "ipython",
    "version": 3
   },
   "file_extension": ".py",
   "mimetype": "text/x-python",
   "name": "python",
   "nbconvert_exporter": "python",
   "pygments_lexer": "ipython3",
   "version": "3.7.5"
  }
 },
 "nbformat": 4,
 "nbformat_minor": 4
}
